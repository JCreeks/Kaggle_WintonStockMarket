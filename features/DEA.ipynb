{
 "cells": [
  {
   "cell_type": "markdown",
   "metadata": {
    "deletable": true,
    "editable": true
   },
   "source": [
    "Exploratory Data Analysis\n",
    "\n",
    "Some of following codes were extracted from [[1]].\n",
    "\n",
    "[1]: https://github.com/achab"
   ]
  },
  {
   "cell_type": "code",
   "execution_count": 1,
   "metadata": {
    "collapsed": false,
    "deletable": true,
    "editable": true
   },
   "outputs": [
    {
     "name": "stderr",
     "output_type": "stream",
     "text": [
      "/Library/Frameworks/Python.framework/Versions/2.7/lib/python2.7/site-packages/sklearn/cross_validation.py:44: DeprecationWarning: This module was deprecated in version 0.18 in favor of the model_selection module into which all the refactored classes and functions are moved. Also note that the interface of the new CV iterators are different from that of this module. This module will be removed in 0.20.\n",
      "  \"This module will be removed in 0.20.\", DeprecationWarning)\n"
     ]
    }
   ],
   "source": [
    "import numpy as np\n",
    "import pandas as pd\n",
    "from sklearn.preprocessing import StandardScaler\n",
    "from sklearn.cross_validation import train_test_split\n",
    "from transform import one_hot_dataframe, scale_dataframe, impute_dataframe"
   ]
  },
  {
   "cell_type": "code",
   "execution_count": 2,
   "metadata": {
    "collapsed": true,
    "deletable": true,
    "editable": true
   },
   "outputs": [],
   "source": [
    "%matplotlib inline\n",
    "import matplotlib.pyplot as plt"
   ]
  },
  {
   "cell_type": "code",
   "execution_count": 3,
   "metadata": {
    "collapsed": false,
    "deletable": true,
    "editable": true
   },
   "outputs": [
    {
     "name": "stdout",
     "output_type": "stream",
     "text": [
      "('train size: ', (40000, 211))\n",
      "('test size: ', (120000, 147))\n"
     ]
    }
   ],
   "source": [
    "train = pd.read_csv('../input/train.csv')\n",
    "test = pd.read_csv('../input/test_2.csv')\n",
    "print(\"train size: \", train.shape)\n",
    "print(\"test size: \", test.shape)"
   ]
  },
  {
   "cell_type": "code",
   "execution_count": 4,
   "metadata": {
    "collapsed": true,
    "deletable": true,
    "editable": true
   },
   "outputs": [],
   "source": [
    "train, test = impute_dataframe(train, test)\n",
    "#train, val = train_test_split(train, test_size=0.4)\n",
    "#train, val = impute_dataframe(train, val)"
   ]
  },
  {
   "cell_type": "code",
   "execution_count": 5,
   "metadata": {
    "collapsed": false,
    "deletable": true,
    "editable": true,
    "scrolled": true
   },
   "outputs": [
    {
     "data": {
      "text/html": [
       "<div>\n",
       "<style>\n",
       "    .dataframe thead tr:only-child th {\n",
       "        text-align: right;\n",
       "    }\n",
       "\n",
       "    .dataframe thead th {\n",
       "        text-align: left;\n",
       "    }\n",
       "\n",
       "    .dataframe tbody tr th {\n",
       "        vertical-align: top;\n",
       "    }\n",
       "</style>\n",
       "<table border=\"1\" class=\"dataframe\">\n",
       "  <thead>\n",
       "    <tr style=\"text-align: right;\">\n",
       "      <th></th>\n",
       "      <th>Id</th>\n",
       "      <th>Feature_1</th>\n",
       "      <th>Feature_2</th>\n",
       "      <th>Feature_3</th>\n",
       "      <th>Feature_4</th>\n",
       "      <th>Feature_5</th>\n",
       "      <th>Feature_6</th>\n",
       "      <th>Feature_7</th>\n",
       "      <th>Feature_8</th>\n",
       "      <th>Feature_9</th>\n",
       "      <th>...</th>\n",
       "      <th>Ret_175</th>\n",
       "      <th>Ret_176</th>\n",
       "      <th>Ret_177</th>\n",
       "      <th>Ret_178</th>\n",
       "      <th>Ret_179</th>\n",
       "      <th>Ret_180</th>\n",
       "      <th>Ret_PlusOne</th>\n",
       "      <th>Ret_PlusTwo</th>\n",
       "      <th>Weight_Intraday</th>\n",
       "      <th>Weight_Daily</th>\n",
       "    </tr>\n",
       "  </thead>\n",
       "  <tbody>\n",
       "    <tr>\n",
       "      <th>0</th>\n",
       "      <td>1</td>\n",
       "      <td>3.59025</td>\n",
       "      <td>-0.117558</td>\n",
       "      <td>0.558392</td>\n",
       "      <td>0.405572</td>\n",
       "      <td>8.0</td>\n",
       "      <td>0.430972</td>\n",
       "      <td>75751</td>\n",
       "      <td>0.2254</td>\n",
       "      <td>11.0</td>\n",
       "      <td>...</td>\n",
       "      <td>-0.002688</td>\n",
       "      <td>0.002246</td>\n",
       "      <td>-0.000838</td>\n",
       "      <td>-6.953224e-04</td>\n",
       "      <td>0.000003</td>\n",
       "      <td>-0.001974</td>\n",
       "      <td>-0.019512</td>\n",
       "      <td>0.028846</td>\n",
       "      <td>1.251508e+06</td>\n",
       "      <td>1.564385e+06</td>\n",
       "    </tr>\n",
       "    <tr>\n",
       "      <th>1</th>\n",
       "      <td>2</td>\n",
       "      <td>3.59025</td>\n",
       "      <td>-0.117558</td>\n",
       "      <td>0.558392</td>\n",
       "      <td>0.405572</td>\n",
       "      <td>3.0</td>\n",
       "      <td>0.388896</td>\n",
       "      <td>17369</td>\n",
       "      <td>0.0166</td>\n",
       "      <td>13.0</td>\n",
       "      <td>...</td>\n",
       "      <td>-0.000129</td>\n",
       "      <td>0.000123</td>\n",
       "      <td>0.000248</td>\n",
       "      <td>3.315418e-07</td>\n",
       "      <td>0.000003</td>\n",
       "      <td>0.000027</td>\n",
       "      <td>-0.002939</td>\n",
       "      <td>-0.010253</td>\n",
       "      <td>1.733950e+06</td>\n",
       "      <td>2.167438e+06</td>\n",
       "    </tr>\n",
       "    <tr>\n",
       "      <th>2</th>\n",
       "      <td>3</td>\n",
       "      <td>3.59025</td>\n",
       "      <td>-0.696727</td>\n",
       "      <td>0.739591</td>\n",
       "      <td>-0.167928</td>\n",
       "      <td>9.0</td>\n",
       "      <td>0.471947</td>\n",
       "      <td>8277</td>\n",
       "      <td>0.3650</td>\n",
       "      <td>9.0</td>\n",
       "      <td>...</td>\n",
       "      <td>-0.000524</td>\n",
       "      <td>-0.000394</td>\n",
       "      <td>0.000116</td>\n",
       "      <td>5.322557e-04</td>\n",
       "      <td>0.000274</td>\n",
       "      <td>0.000784</td>\n",
       "      <td>-0.024791</td>\n",
       "      <td>0.015711</td>\n",
       "      <td>1.529197e+06</td>\n",
       "      <td>1.911497e+06</td>\n",
       "    </tr>\n",
       "    <tr>\n",
       "      <th>3</th>\n",
       "      <td>4</td>\n",
       "      <td>3.59025</td>\n",
       "      <td>-0.694350</td>\n",
       "      <td>1.568248</td>\n",
       "      <td>0.479073</td>\n",
       "      <td>5.0</td>\n",
       "      <td>0.120653</td>\n",
       "      <td>22508</td>\n",
       "      <td>0.2654</td>\n",
       "      <td>13.0</td>\n",
       "      <td>...</td>\n",
       "      <td>0.000346</td>\n",
       "      <td>-0.000090</td>\n",
       "      <td>0.000288</td>\n",
       "      <td>-1.281102e-04</td>\n",
       "      <td>0.000074</td>\n",
       "      <td>0.000341</td>\n",
       "      <td>-0.005680</td>\n",
       "      <td>-0.002190</td>\n",
       "      <td>1.711569e+06</td>\n",
       "      <td>2.139462e+06</td>\n",
       "    </tr>\n",
       "    <tr>\n",
       "      <th>4</th>\n",
       "      <td>5</td>\n",
       "      <td>6.00000</td>\n",
       "      <td>-1.736489</td>\n",
       "      <td>2.765531</td>\n",
       "      <td>1.245280</td>\n",
       "      <td>7.0</td>\n",
       "      <td>4.866985</td>\n",
       "      <td>22423</td>\n",
       "      <td>0.2138</td>\n",
       "      <td>13.0</td>\n",
       "      <td>...</td>\n",
       "      <td>-0.001235</td>\n",
       "      <td>0.000027</td>\n",
       "      <td>0.002449</td>\n",
       "      <td>8.619882e-06</td>\n",
       "      <td>0.001209</td>\n",
       "      <td>-0.000004</td>\n",
       "      <td>0.036104</td>\n",
       "      <td>-0.026552</td>\n",
       "      <td>1.267270e+06</td>\n",
       "      <td>1.584088e+06</td>\n",
       "    </tr>\n",
       "  </tbody>\n",
       "</table>\n",
       "<p>5 rows × 211 columns</p>\n",
       "</div>"
      ],
      "text/plain": [
       "   Id  Feature_1  Feature_2  Feature_3  Feature_4  Feature_5  Feature_6  \\\n",
       "0   1    3.59025  -0.117558   0.558392   0.405572        8.0   0.430972   \n",
       "1   2    3.59025  -0.117558   0.558392   0.405572        3.0   0.388896   \n",
       "2   3    3.59025  -0.696727   0.739591  -0.167928        9.0   0.471947   \n",
       "3   4    3.59025  -0.694350   1.568248   0.479073        5.0   0.120653   \n",
       "4   5    6.00000  -1.736489   2.765531   1.245280        7.0   4.866985   \n",
       "\n",
       "   Feature_7  Feature_8  Feature_9      ...        Ret_175   Ret_176  \\\n",
       "0      75751     0.2254       11.0      ...      -0.002688  0.002246   \n",
       "1      17369     0.0166       13.0      ...      -0.000129  0.000123   \n",
       "2       8277     0.3650        9.0      ...      -0.000524 -0.000394   \n",
       "3      22508     0.2654       13.0      ...       0.000346 -0.000090   \n",
       "4      22423     0.2138       13.0      ...      -0.001235  0.000027   \n",
       "\n",
       "    Ret_177       Ret_178   Ret_179   Ret_180  Ret_PlusOne  Ret_PlusTwo  \\\n",
       "0 -0.000838 -6.953224e-04  0.000003 -0.001974    -0.019512     0.028846   \n",
       "1  0.000248  3.315418e-07  0.000003  0.000027    -0.002939    -0.010253   \n",
       "2  0.000116  5.322557e-04  0.000274  0.000784    -0.024791     0.015711   \n",
       "3  0.000288 -1.281102e-04  0.000074  0.000341    -0.005680    -0.002190   \n",
       "4  0.002449  8.619882e-06  0.001209 -0.000004     0.036104    -0.026552   \n",
       "\n",
       "   Weight_Intraday  Weight_Daily  \n",
       "0     1.251508e+06  1.564385e+06  \n",
       "1     1.733950e+06  2.167438e+06  \n",
       "2     1.529197e+06  1.911497e+06  \n",
       "3     1.711569e+06  2.139462e+06  \n",
       "4     1.267270e+06  1.584088e+06  \n",
       "\n",
       "[5 rows x 211 columns]"
      ]
     },
     "execution_count": 5,
     "metadata": {},
     "output_type": "execute_result"
    }
   ],
   "source": [
    "train.head()"
   ]
  },
  {
   "cell_type": "code",
   "execution_count": 6,
   "metadata": {
    "collapsed": false,
    "deletable": true,
    "editable": true
   },
   "outputs": [
    {
     "data": {
      "text/html": [
       "<div>\n",
       "<style>\n",
       "    .dataframe thead tr:only-child th {\n",
       "        text-align: right;\n",
       "    }\n",
       "\n",
       "    .dataframe thead th {\n",
       "        text-align: left;\n",
       "    }\n",
       "\n",
       "    .dataframe tbody tr th {\n",
       "        vertical-align: top;\n",
       "    }\n",
       "</style>\n",
       "<table border=\"1\" class=\"dataframe\">\n",
       "  <thead>\n",
       "    <tr style=\"text-align: right;\">\n",
       "      <th></th>\n",
       "      <th>Id</th>\n",
       "      <th>Feature_1</th>\n",
       "      <th>Feature_2</th>\n",
       "      <th>Feature_3</th>\n",
       "      <th>Feature_4</th>\n",
       "      <th>Feature_5</th>\n",
       "      <th>Feature_6</th>\n",
       "      <th>Feature_7</th>\n",
       "      <th>Feature_8</th>\n",
       "      <th>Feature_9</th>\n",
       "      <th>...</th>\n",
       "      <th>Ret_111</th>\n",
       "      <th>Ret_112</th>\n",
       "      <th>Ret_113</th>\n",
       "      <th>Ret_114</th>\n",
       "      <th>Ret_115</th>\n",
       "      <th>Ret_116</th>\n",
       "      <th>Ret_117</th>\n",
       "      <th>Ret_118</th>\n",
       "      <th>Ret_119</th>\n",
       "      <th>Ret_120</th>\n",
       "    </tr>\n",
       "  </thead>\n",
       "  <tbody>\n",
       "    <tr>\n",
       "      <th>0</th>\n",
       "      <td>1</td>\n",
       "      <td>1.00000</td>\n",
       "      <td>1.412783</td>\n",
       "      <td>-0.056284</td>\n",
       "      <td>0.407434</td>\n",
       "      <td>10.0</td>\n",
       "      <td>0.413226</td>\n",
       "      <td>18871</td>\n",
       "      <td>0.2138</td>\n",
       "      <td>11.0</td>\n",
       "      <td>...</td>\n",
       "      <td>0.000370</td>\n",
       "      <td>-0.000762</td>\n",
       "      <td>-0.000026</td>\n",
       "      <td>0.000366</td>\n",
       "      <td>-2.443829e-03</td>\n",
       "      <td>-0.001301</td>\n",
       "      <td>-0.000917</td>\n",
       "      <td>0.000762</td>\n",
       "      <td>-0.000556</td>\n",
       "      <td>0.000759</td>\n",
       "    </tr>\n",
       "    <tr>\n",
       "      <th>1</th>\n",
       "      <td>2</td>\n",
       "      <td>3.45499</td>\n",
       "      <td>-0.112675</td>\n",
       "      <td>0.907973</td>\n",
       "      <td>1.002425</td>\n",
       "      <td>7.0</td>\n",
       "      <td>-0.257825</td>\n",
       "      <td>5852</td>\n",
       "      <td>0.2138</td>\n",
       "      <td>13.0</td>\n",
       "      <td>...</td>\n",
       "      <td>0.000457</td>\n",
       "      <td>0.000003</td>\n",
       "      <td>-0.000007</td>\n",
       "      <td>-0.000003</td>\n",
       "      <td>-1.249010e-05</td>\n",
       "      <td>-0.000463</td>\n",
       "      <td>-0.000003</td>\n",
       "      <td>-0.000002</td>\n",
       "      <td>0.000468</td>\n",
       "      <td>-0.000012</td>\n",
       "    </tr>\n",
       "    <tr>\n",
       "      <th>2</th>\n",
       "      <td>3</td>\n",
       "      <td>3.45499</td>\n",
       "      <td>-0.607583</td>\n",
       "      <td>1.076668</td>\n",
       "      <td>0.517865</td>\n",
       "      <td>5.0</td>\n",
       "      <td>0.947340</td>\n",
       "      <td>76935</td>\n",
       "      <td>0.0105</td>\n",
       "      <td>10.0</td>\n",
       "      <td>...</td>\n",
       "      <td>0.000003</td>\n",
       "      <td>0.000157</td>\n",
       "      <td>-0.000181</td>\n",
       "      <td>0.000003</td>\n",
       "      <td>4.108380e-08</td>\n",
       "      <td>0.000164</td>\n",
       "      <td>0.000353</td>\n",
       "      <td>0.000704</td>\n",
       "      <td>-0.000168</td>\n",
       "      <td>-0.000006</td>\n",
       "    </tr>\n",
       "    <tr>\n",
       "      <th>3</th>\n",
       "      <td>4</td>\n",
       "      <td>3.45499</td>\n",
       "      <td>2.230240</td>\n",
       "      <td>0.223222</td>\n",
       "      <td>0.407434</td>\n",
       "      <td>1.0</td>\n",
       "      <td>0.439345</td>\n",
       "      <td>84573</td>\n",
       "      <td>0.3318</td>\n",
       "      <td>13.0</td>\n",
       "      <td>...</td>\n",
       "      <td>0.000010</td>\n",
       "      <td>-0.000792</td>\n",
       "      <td>-0.000479</td>\n",
       "      <td>0.000017</td>\n",
       "      <td>1.700924e-04</td>\n",
       "      <td>-0.001079</td>\n",
       "      <td>0.000320</td>\n",
       "      <td>0.000006</td>\n",
       "      <td>0.001392</td>\n",
       "      <td>-0.001850</td>\n",
       "    </tr>\n",
       "    <tr>\n",
       "      <th>4</th>\n",
       "      <td>5</td>\n",
       "      <td>3.45499</td>\n",
       "      <td>0.360399</td>\n",
       "      <td>0.597896</td>\n",
       "      <td>-0.145497</td>\n",
       "      <td>10.0</td>\n",
       "      <td>0.275744</td>\n",
       "      <td>89615</td>\n",
       "      <td>0.0099</td>\n",
       "      <td>8.0</td>\n",
       "      <td>...</td>\n",
       "      <td>0.000447</td>\n",
       "      <td>0.000489</td>\n",
       "      <td>-0.000233</td>\n",
       "      <td>-0.000495</td>\n",
       "      <td>5.728556e-05</td>\n",
       "      <td>-0.000050</td>\n",
       "      <td>-0.000011</td>\n",
       "      <td>-0.000377</td>\n",
       "      <td>0.000227</td>\n",
       "      <td>-0.000114</td>\n",
       "    </tr>\n",
       "  </tbody>\n",
       "</table>\n",
       "<p>5 rows × 147 columns</p>\n",
       "</div>"
      ],
      "text/plain": [
       "   Id  Feature_1  Feature_2  Feature_3  Feature_4  Feature_5  Feature_6  \\\n",
       "0   1    1.00000   1.412783  -0.056284   0.407434       10.0   0.413226   \n",
       "1   2    3.45499  -0.112675   0.907973   1.002425        7.0  -0.257825   \n",
       "2   3    3.45499  -0.607583   1.076668   0.517865        5.0   0.947340   \n",
       "3   4    3.45499   2.230240   0.223222   0.407434        1.0   0.439345   \n",
       "4   5    3.45499   0.360399   0.597896  -0.145497       10.0   0.275744   \n",
       "\n",
       "   Feature_7  Feature_8  Feature_9    ...      Ret_111   Ret_112   Ret_113  \\\n",
       "0      18871     0.2138       11.0    ...     0.000370 -0.000762 -0.000026   \n",
       "1       5852     0.2138       13.0    ...     0.000457  0.000003 -0.000007   \n",
       "2      76935     0.0105       10.0    ...     0.000003  0.000157 -0.000181   \n",
       "3      84573     0.3318       13.0    ...     0.000010 -0.000792 -0.000479   \n",
       "4      89615     0.0099        8.0    ...     0.000447  0.000489 -0.000233   \n",
       "\n",
       "    Ret_114       Ret_115   Ret_116   Ret_117   Ret_118   Ret_119   Ret_120  \n",
       "0  0.000366 -2.443829e-03 -0.001301 -0.000917  0.000762 -0.000556  0.000759  \n",
       "1 -0.000003 -1.249010e-05 -0.000463 -0.000003 -0.000002  0.000468 -0.000012  \n",
       "2  0.000003  4.108380e-08  0.000164  0.000353  0.000704 -0.000168 -0.000006  \n",
       "3  0.000017  1.700924e-04 -0.001079  0.000320  0.000006  0.001392 -0.001850  \n",
       "4 -0.000495  5.728556e-05 -0.000050 -0.000011 -0.000377  0.000227 -0.000114  \n",
       "\n",
       "[5 rows x 147 columns]"
      ]
     },
     "execution_count": 6,
     "metadata": {},
     "output_type": "execute_result"
    }
   ],
   "source": [
    "test.head()"
   ]
  },
  {
   "cell_type": "code",
   "execution_count": 7,
   "metadata": {
    "collapsed": false,
    "deletable": true,
    "editable": true
   },
   "outputs": [
    {
     "data": {
      "text/plain": [
       "<matplotlib.axes._subplots.AxesSubplot at 0x109d7e250>"
      ]
     },
     "execution_count": 7,
     "metadata": {},
     "output_type": "execute_result"
    },
    {
     "data": {
      "image/png": "[encoded data removed]",
      "text/plain": [
       "<matplotlib.figure.Figure at 0x109f4ef90>"
      ]
     },
     "metadata": {},
     "output_type": "display_data"
    }
   ],
   "source": [
    "train['Feature_2'].hist()"
   ]
  },
  {
   "cell_type": "code",
   "execution_count": 9,
   "metadata": {
    "collapsed": false,
    "deletable": true,
    "editable": true
   },
   "outputs": [],
   "source": [
    "returns = train.loc[:,'Ret_2':'Ret_180']\n",
    "returns = returns.apply(lambda a: a.astype(float), axis=1)\n",
    "log_prices = returns.cumsum()"
   ]
  },
  {
   "cell_type": "code",
   "execution_count": 11,
   "metadata": {
    "collapsed": false
   },
   "outputs": [
    {
     "data": {
      "text/html": [
       "<div>\n",
       "<style>\n",
       "    .dataframe thead tr:only-child th {\n",
       "        text-align: right;\n",
       "    }\n",
       "\n",
       "    .dataframe thead th {\n",
       "        text-align: left;\n",
       "    }\n",
       "\n",
       "    .dataframe tbody tr th {\n",
       "        vertical-align: top;\n",
       "    }\n",
       "</style>\n",
       "<table border=\"1\" class=\"dataframe\">\n",
       "  <thead>\n",
       "    <tr style=\"text-align: right;\">\n",
       "      <th></th>\n",
       "      <th>Ret_2</th>\n",
       "      <th>Ret_3</th>\n",
       "      <th>Ret_4</th>\n",
       "      <th>Ret_5</th>\n",
       "      <th>Ret_6</th>\n",
       "      <th>Ret_7</th>\n",
       "      <th>Ret_8</th>\n",
       "      <th>Ret_9</th>\n",
       "      <th>Ret_10</th>\n",
       "      <th>Ret_11</th>\n",
       "      <th>...</th>\n",
       "      <th>Ret_171</th>\n",
       "      <th>Ret_172</th>\n",
       "      <th>Ret_173</th>\n",
       "      <th>Ret_174</th>\n",
       "      <th>Ret_175</th>\n",
       "      <th>Ret_176</th>\n",
       "      <th>Ret_177</th>\n",
       "      <th>Ret_178</th>\n",
       "      <th>Ret_179</th>\n",
       "      <th>Ret_180</th>\n",
       "    </tr>\n",
       "  </thead>\n",
       "  <tbody>\n",
       "    <tr>\n",
       "      <th>count</th>\n",
       "      <td>4.000000e+04</td>\n",
       "      <td>40000.000000</td>\n",
       "      <td>40000.000000</td>\n",
       "      <td>40000.000000</td>\n",
       "      <td>40000.000000</td>\n",
       "      <td>40000.000000</td>\n",
       "      <td>40000.000000</td>\n",
       "      <td>4.000000e+04</td>\n",
       "      <td>40000.000000</td>\n",
       "      <td>40000.000000</td>\n",
       "      <td>...</td>\n",
       "      <td>4.000000e+04</td>\n",
       "      <td>40000.000000</td>\n",
       "      <td>40000.000000</td>\n",
       "      <td>4.000000e+04</td>\n",
       "      <td>40000.000000</td>\n",
       "      <td>4.000000e+04</td>\n",
       "      <td>4.000000e+04</td>\n",
       "      <td>4.000000e+04</td>\n",
       "      <td>40000.000000</td>\n",
       "      <td>40000.000000</td>\n",
       "    </tr>\n",
       "    <tr>\n",
       "      <th>mean</th>\n",
       "      <td>5.600930e-06</td>\n",
       "      <td>-0.000008</td>\n",
       "      <td>-0.000006</td>\n",
       "      <td>-0.000006</td>\n",
       "      <td>-0.000019</td>\n",
       "      <td>0.000030</td>\n",
       "      <td>0.000028</td>\n",
       "      <td>4.696042e-07</td>\n",
       "      <td>0.000004</td>\n",
       "      <td>-0.000004</td>\n",
       "      <td>...</td>\n",
       "      <td>6.297943e-06</td>\n",
       "      <td>-0.000032</td>\n",
       "      <td>0.000034</td>\n",
       "      <td>-1.729004e-05</td>\n",
       "      <td>0.000049</td>\n",
       "      <td>-3.580980e-06</td>\n",
       "      <td>-9.675766e-06</td>\n",
       "      <td>-1.268935e-05</td>\n",
       "      <td>-0.000017</td>\n",
       "      <td>-0.000057</td>\n",
       "    </tr>\n",
       "    <tr>\n",
       "      <th>std</th>\n",
       "      <td>9.375506e-04</td>\n",
       "      <td>0.000960</td>\n",
       "      <td>0.000979</td>\n",
       "      <td>0.000947</td>\n",
       "      <td>0.000909</td>\n",
       "      <td>0.000992</td>\n",
       "      <td>0.000907</td>\n",
       "      <td>9.359933e-04</td>\n",
       "      <td>0.000972</td>\n",
       "      <td>0.000964</td>\n",
       "      <td>...</td>\n",
       "      <td>1.267855e-03</td>\n",
       "      <td>0.001304</td>\n",
       "      <td>0.001161</td>\n",
       "      <td>1.148816e-03</td>\n",
       "      <td>0.001115</td>\n",
       "      <td>1.166019e-03</td>\n",
       "      <td>1.248956e-03</td>\n",
       "      <td>1.217967e-03</td>\n",
       "      <td>0.001208</td>\n",
       "      <td>0.001270</td>\n",
       "    </tr>\n",
       "    <tr>\n",
       "      <th>min</th>\n",
       "      <td>-1.311777e-02</td>\n",
       "      <td>-0.038542</td>\n",
       "      <td>-0.040386</td>\n",
       "      <td>-0.030359</td>\n",
       "      <td>-0.024735</td>\n",
       "      <td>-0.056589</td>\n",
       "      <td>-0.019753</td>\n",
       "      <td>-2.955805e-02</td>\n",
       "      <td>-0.030077</td>\n",
       "      <td>-0.015547</td>\n",
       "      <td>...</td>\n",
       "      <td>-8.013326e-02</td>\n",
       "      <td>-0.030744</td>\n",
       "      <td>-0.024382</td>\n",
       "      <td>-4.849509e-02</td>\n",
       "      <td>-0.018048</td>\n",
       "      <td>-1.786752e-02</td>\n",
       "      <td>-3.526027e-02</td>\n",
       "      <td>-4.864099e-02</td>\n",
       "      <td>-0.037215</td>\n",
       "      <td>-0.058046</td>\n",
       "    </tr>\n",
       "    <tr>\n",
       "      <th>25%</th>\n",
       "      <td>-3.086969e-04</td>\n",
       "      <td>-0.000310</td>\n",
       "      <td>-0.000307</td>\n",
       "      <td>-0.000310</td>\n",
       "      <td>-0.000315</td>\n",
       "      <td>-0.000278</td>\n",
       "      <td>-0.000289</td>\n",
       "      <td>-2.896878e-04</td>\n",
       "      <td>-0.000301</td>\n",
       "      <td>-0.000297</td>\n",
       "      <td>...</td>\n",
       "      <td>-3.718148e-04</td>\n",
       "      <td>-0.000437</td>\n",
       "      <td>-0.000353</td>\n",
       "      <td>-3.790673e-04</td>\n",
       "      <td>-0.000316</td>\n",
       "      <td>-3.943210e-04</td>\n",
       "      <td>-4.091851e-04</td>\n",
       "      <td>-3.649676e-04</td>\n",
       "      <td>-0.000361</td>\n",
       "      <td>-0.000413</td>\n",
       "    </tr>\n",
       "    <tr>\n",
       "      <th>50%</th>\n",
       "      <td>4.050692e-07</td>\n",
       "      <td>-0.000002</td>\n",
       "      <td>-0.000002</td>\n",
       "      <td>-0.000002</td>\n",
       "      <td>-0.000002</td>\n",
       "      <td>0.000003</td>\n",
       "      <td>0.000002</td>\n",
       "      <td>4.696042e-07</td>\n",
       "      <td>0.000002</td>\n",
       "      <td>-0.000002</td>\n",
       "      <td>...</td>\n",
       "      <td>8.790193e-07</td>\n",
       "      <td>-0.000001</td>\n",
       "      <td>0.000002</td>\n",
       "      <td>1.489203e-07</td>\n",
       "      <td>0.000004</td>\n",
       "      <td>-4.039616e-07</td>\n",
       "      <td>4.016833e-07</td>\n",
       "      <td>6.407432e-07</td>\n",
       "      <td>0.000001</td>\n",
       "      <td>-0.000002</td>\n",
       "    </tr>\n",
       "    <tr>\n",
       "      <th>75%</th>\n",
       "      <td>2.994003e-04</td>\n",
       "      <td>0.000301</td>\n",
       "      <td>0.000307</td>\n",
       "      <td>0.000306</td>\n",
       "      <td>0.000297</td>\n",
       "      <td>0.000321</td>\n",
       "      <td>0.000319</td>\n",
       "      <td>3.093888e-04</td>\n",
       "      <td>0.000300</td>\n",
       "      <td>0.000297</td>\n",
       "      <td>...</td>\n",
       "      <td>3.833404e-04</td>\n",
       "      <td>0.000400</td>\n",
       "      <td>0.000395</td>\n",
       "      <td>3.677647e-04</td>\n",
       "      <td>0.000407</td>\n",
       "      <td>3.820685e-04</td>\n",
       "      <td>4.172179e-04</td>\n",
       "      <td>3.750965e-04</td>\n",
       "      <td>0.000378</td>\n",
       "      <td>0.000364</td>\n",
       "    </tr>\n",
       "    <tr>\n",
       "      <th>max</th>\n",
       "      <td>3.214902e-02</td>\n",
       "      <td>0.021779</td>\n",
       "      <td>0.028929</td>\n",
       "      <td>0.018692</td>\n",
       "      <td>0.040100</td>\n",
       "      <td>0.029290</td>\n",
       "      <td>0.018545</td>\n",
       "      <td>2.146587e-02</td>\n",
       "      <td>0.028523</td>\n",
       "      <td>0.030518</td>\n",
       "      <td>...</td>\n",
       "      <td>2.321605e-02</td>\n",
       "      <td>0.035168</td>\n",
       "      <td>0.074885</td>\n",
       "      <td>1.399997e-02</td>\n",
       "      <td>0.020781</td>\n",
       "      <td>3.061460e-02</td>\n",
       "      <td>4.406460e-02</td>\n",
       "      <td>2.922928e-02</td>\n",
       "      <td>0.048221</td>\n",
       "      <td>0.026112</td>\n",
       "    </tr>\n",
       "  </tbody>\n",
       "</table>\n",
       "<p>8 rows × 179 columns</p>\n",
       "</div>"
      ],
      "text/plain": [
       "              Ret_2         Ret_3         Ret_4         Ret_5         Ret_6  \\\n",
       "count  4.000000e+04  40000.000000  40000.000000  40000.000000  40000.000000   \n",
       "mean   5.600930e-06     -0.000008     -0.000006     -0.000006     -0.000019   \n",
       "std    9.375506e-04      0.000960      0.000979      0.000947      0.000909   \n",
       "min   -1.311777e-02     -0.038542     -0.040386     -0.030359     -0.024735   \n",
       "25%   -3.086969e-04     -0.000310     -0.000307     -0.000310     -0.000315   \n",
       "50%    4.050692e-07     -0.000002     -0.000002     -0.000002     -0.000002   \n",
       "75%    2.994003e-04      0.000301      0.000307      0.000306      0.000297   \n",
       "max    3.214902e-02      0.021779      0.028929      0.018692      0.040100   \n",
       "\n",
       "              Ret_7         Ret_8         Ret_9        Ret_10        Ret_11  \\\n",
       "count  40000.000000  40000.000000  4.000000e+04  40000.000000  40000.000000   \n",
       "mean       0.000030      0.000028  4.696042e-07      0.000004     -0.000004   \n",
       "std        0.000992      0.000907  9.359933e-04      0.000972      0.000964   \n",
       "min       -0.056589     -0.019753 -2.955805e-02     -0.030077     -0.015547   \n",
       "25%       -0.000278     -0.000289 -2.896878e-04     -0.000301     -0.000297   \n",
       "50%        0.000003      0.000002  4.696042e-07      0.000002     -0.000002   \n",
       "75%        0.000321      0.000319  3.093888e-04      0.000300      0.000297   \n",
       "max        0.029290      0.018545  2.146587e-02      0.028523      0.030518   \n",
       "\n",
       "           ...            Ret_171       Ret_172       Ret_173       Ret_174  \\\n",
       "count      ...       4.000000e+04  40000.000000  40000.000000  4.000000e+04   \n",
       "mean       ...       6.297943e-06     -0.000032      0.000034 -1.729004e-05   \n",
       "std        ...       1.267855e-03      0.001304      0.001161  1.148816e-03   \n",
       "min        ...      -8.013326e-02     -0.030744     -0.024382 -4.849509e-02   \n",
       "25%        ...      -3.718148e-04     -0.000437     -0.000353 -3.790673e-04   \n",
       "50%        ...       8.790193e-07     -0.000001      0.000002  1.489203e-07   \n",
       "75%        ...       3.833404e-04      0.000400      0.000395  3.677647e-04   \n",
       "max        ...       2.321605e-02      0.035168      0.074885  1.399997e-02   \n",
       "\n",
       "            Ret_175       Ret_176       Ret_177       Ret_178       Ret_179  \\\n",
       "count  40000.000000  4.000000e+04  4.000000e+04  4.000000e+04  40000.000000   \n",
       "mean       0.000049 -3.580980e-06 -9.675766e-06 -1.268935e-05     -0.000017   \n",
       "std        0.001115  1.166019e-03  1.248956e-03  1.217967e-03      0.001208   \n",
       "min       -0.018048 -1.786752e-02 -3.526027e-02 -4.864099e-02     -0.037215   \n",
       "25%       -0.000316 -3.943210e-04 -4.091851e-04 -3.649676e-04     -0.000361   \n",
       "50%        0.000004 -4.039616e-07  4.016833e-07  6.407432e-07      0.000001   \n",
       "75%        0.000407  3.820685e-04  4.172179e-04  3.750965e-04      0.000378   \n",
       "max        0.020781  3.061460e-02  4.406460e-02  2.922928e-02      0.048221   \n",
       "\n",
       "            Ret_180  \n",
       "count  40000.000000  \n",
       "mean      -0.000057  \n",
       "std        0.001270  \n",
       "min       -0.058046  \n",
       "25%       -0.000413  \n",
       "50%       -0.000002  \n",
       "75%        0.000364  \n",
       "max        0.026112  \n",
       "\n",
       "[8 rows x 179 columns]"
      ]
     },
     "execution_count": 11,
     "metadata": {},
     "output_type": "execute_result"
    }
   ],
   "source": [
    "returns.describe()"
   ]
  },
  {
   "cell_type": "code",
   "execution_count": 14,
   "metadata": {
    "collapsed": false
   },
   "outputs": [
    {
     "data": {
      "text/plain": [
       "count    179.000000\n",
       "mean      -0.000002\n",
       "std        0.000024\n",
       "min       -0.000089\n",
       "25%       -0.000017\n",
       "50%       -0.000003\n",
       "75%        0.000009\n",
       "max        0.000082\n",
       "dtype: float64"
      ]
     },
     "execution_count": 14,
     "metadata": {},
     "output_type": "execute_result"
    }
   ],
   "source": [
    "returns.apply(np.mean).describe()"
   ]
  },
  {
   "cell_type": "markdown",
   "metadata": {
    "deletable": true,
    "editable": true
   },
   "source": [
    "# AR processes"
   ]
  },
  {
   "cell_type": "code",
   "execution_count": 15,
   "metadata": {
    "collapsed": false,
    "deletable": true,
    "editable": true
   },
   "outputs": [
    {
     "name": "stderr",
     "output_type": "stream",
     "text": [
      "/Library/Frameworks/Python.framework/Versions/2.7/lib/python2.7/site-packages/statsmodels/compat/pandas.py:56: FutureWarning: The pandas.core.datetools module is deprecated and will be removed in a future version. Please use the pandas.tseries module instead.\n",
      "  from pandas.core import datetools\n"
     ]
    }
   ],
   "source": [
    "from statsmodels.tsa.ar_model import AR"
   ]
  },
  {
   "cell_type": "code",
   "execution_count": 16,
   "metadata": {
    "collapsed": false,
    "deletable": true,
    "editable": true
   },
   "outputs": [],
   "source": [
    "#process = AR(returns.loc[50].values)\n",
    "#fitted_process = process.fit(30)\n",
    "#params = fitted_process.params\n",
    "#fig = plt.figure()\n",
    "#ax = fig.add_subplot(111)\n",
    "#ax.plot(process.predict(params))\n",
    "#ax.plot(returns.loc[50].values)"
   ]
  },
  {
   "cell_type": "code",
   "execution_count": 17,
   "metadata": {
    "collapsed": false,
    "deletable": true,
    "editable": true
   },
   "outputs": [
    {
     "data": {
      "image/png": "[encoded data removed]",
      "text/plain": [
       "<matplotlib.figure.Figure at 0x123705dd0>"
      ]
     },
     "execution_count": 17,
     "metadata": {},
     "output_type": "execute_result"
    },
    {
     "data": {
      "image/png": "[encoded data removed]",
      "text/plain": [
       "<matplotlib.figure.Figure at 0x123705dd0>"
      ]
     },
     "metadata": {},
     "output_type": "display_data"
    }
   ],
   "source": [
    "from statsmodels.graphics.tsaplots import plot_acf\n",
    "plot_acf(returns.loc[50].values)"
   ]
  },
  {
   "cell_type": "markdown",
   "metadata": {
    "deletable": true,
    "editable": true
   },
   "source": [
    "# KMeans"
   ]
  },
  {
   "cell_type": "code",
   "execution_count": 18,
   "metadata": {
    "collapsed": true,
    "deletable": true,
    "editable": true
   },
   "outputs": [],
   "source": [
    "X = train.loc[:,'Feature_1':'Feature_25'].values"
   ]
  },
  {
   "cell_type": "code",
   "execution_count": 19,
   "metadata": {
    "collapsed": false,
    "deletable": true,
    "editable": true
   },
   "outputs": [
    {
     "data": {
      "text/plain": [
       "array([  7.97613766e+08,   2.39959424e+01,   1.43957917e+01,\n",
       "         7.75578885e+00,   6.71299846e+00])"
      ]
     },
     "execution_count": 19,
     "metadata": {},
     "output_type": "execute_result"
    }
   ],
   "source": [
    "from sklearn.decomposition import PCA\n",
    "pca = PCA(n_components=5,whiten=True)\n",
    "X_r = pca.fit_transform(X)\n",
    "pca.explained_variance_"
   ]
  },
  {
   "cell_type": "code",
   "execution_count": 20,
   "metadata": {
    "collapsed": false,
    "deletable": true,
    "editable": true
   },
   "outputs": [
    {
     "data": {
      "text/plain": [
       "<matplotlib.collections.PathCollection at 0x10f602b90>"
      ]
     },
     "execution_count": 20,
     "metadata": {},
     "output_type": "execute_result"
    },
    {
     "data": {
      "image/png": "[encoded data removed]",
      "text/plain": [
       "<matplotlib.figure.Figure at 0x123705c50>"
      ]
     },
     "metadata": {},
     "output_type": "display_data"
    }
   ],
   "source": [
    "plt.scatter(X_r[:,0], X_r[:,1])"
   ]
  },
  {
   "cell_type": "code",
   "execution_count": 18,
   "metadata": {
    "collapsed": false,
    "deletable": true,
    "editable": true
   },
   "outputs": [],
   "source": [
    "#from sklearn.cluster import KMeans\n",
    "#kmeans = KMeans(n_clusters=8,n_init=pca.components_)\n",
    "#kmeans.fit(X)"
   ]
  },
  {
   "cell_type": "markdown",
   "metadata": {
    "deletable": true,
    "editable": true
   },
   "source": [
    "# Some plots"
   ]
  },
  {
   "cell_type": "markdown",
   "metadata": {
    "collapsed": false,
    "deletable": true,
    "editable": true
   },
   "source": [
    "import sys\n",
    "sys.path.append('/Users/massil/Programmation/')\n",
    "import finance"
   ]
  },
  {
   "cell_type": "markdown",
   "metadata": {
    "collapsed": false,
    "deletable": true,
    "editable": true
   },
   "source": [
    "from finance.statphy.stiff_propagator import propagator\n",
    "propagator = np.corrcoef(returns,rowvar=0)\n",
    "plt.pcolor(propagator,cmap='RdBu')\n",
    "plt.colorbar()\n",
    "plt.show()\n",
    "plt.close()"
   ]
  },
  {
   "cell_type": "markdown",
   "metadata": {
    "collapsed": false,
    "deletable": true,
    "editable": true
   },
   "source": [
    "plt.plot(np.diag(propagator[::-1],k=0))"
   ]
  },
  {
   "cell_type": "markdown",
   "metadata": {
    "deletable": true,
    "editable": true
   },
   "source": [
    "# naives plots"
   ]
  },
  {
   "cell_type": "code",
   "execution_count": 21,
   "metadata": {
    "collapsed": false,
    "deletable": true,
    "editable": true
   },
   "outputs": [
    {
     "data": {
      "text/plain": [
       "2.7668796479551197e-05"
      ]
     },
     "execution_count": 21,
     "metadata": {},
     "output_type": "execute_result"
    }
   ],
   "source": [
    "np.mean(returns.loc[200][:60])"
   ]
  },
  {
   "cell_type": "code",
   "execution_count": 22,
   "metadata": {
    "collapsed": false,
    "deletable": true,
    "editable": true
   },
   "outputs": [
    {
     "data": {
      "text/plain": [
       "<matplotlib.axes._subplots.AxesSubplot at 0x10f48f8d0>"
      ]
     },
     "execution_count": 22,
     "metadata": {},
     "output_type": "execute_result"
    },
    {
     "data": {
      "image/png": "[encoded data removed]",
      "text/plain": [
       "<matplotlib.figure.Figure at 0x10f61cd90>"
      ]
     },
     "metadata": {},
     "output_type": "display_data"
    }
   ],
   "source": [
    "returns.loc[200][61:120].hist()"
   ]
  },
  {
   "cell_type": "code",
   "execution_count": 28,
   "metadata": {
    "collapsed": false,
    "deletable": true,
    "editable": true
   },
   "outputs": [
    {
     "data": {
      "text/plain": [
       "[<matplotlib.lines.Line2D at 0x112949bd0>]"
      ]
     },
     "execution_count": 28,
     "metadata": {},
     "output_type": "execute_result"
    },
    {
     "data": {
      "image/png": "[encoded data removed]",
      "text/plain": [
       "<matplotlib.figure.Figure at 0x10faa6f10>"
      ]
     },
     "metadata": {},
     "output_type": "display_data"
    }
   ],
   "source": [
    "plt.plot(np.array(returns.loc[50]))"
   ]
  },
  {
   "cell_type": "code",
   "execution_count": 30,
   "metadata": {
    "collapsed": false,
    "deletable": true,
    "editable": true
   },
   "outputs": [
    {
     "data": {
      "text/plain": [
       "[<matplotlib.lines.Line2D at 0x10a1d8410>]"
      ]
     },
     "execution_count": 30,
     "metadata": {},
     "output_type": "execute_result"
    },
    {
     "data": {
      "image/png": "[encoded data removed]",
      "text/plain": [
       "<matplotlib.figure.Figure at 0x10fe73510>"
      ]
     },
     "metadata": {},
     "output_type": "display_data"
    }
   ],
   "source": [
    "plt.plot(np.array(log_prices.loc[50]))"
   ]
  },
  {
   "cell_type": "markdown",
   "metadata": {
    "collapsed": true,
    "deletable": true,
    "editable": true
   },
   "source": [
    "def get_cumulants(index, start, end, maxorder=6):\n",
    "    from finance.statphy.cumulants import cumulant\n",
    "    time_indices = np.arange(start,end)\n",
    "    res = np.zeros(maxorder)\n",
    "    for s in range(maxorder):\n",
    "        res[s] = cumulant(returns.loc[index][time_indices],n=s+1)\n",
    "    return res"
   ]
  },
  {
   "cell_type": "markdown",
   "metadata": {
    "collapsed": true,
    "deletable": true,
    "editable": true
   },
   "source": [
    "ind=60\n",
    "maxord=2"
   ]
  },
  {
   "cell_type": "markdown",
   "metadata": {
    "collapsed": false,
    "deletable": true,
    "editable": true
   },
   "source": [
    "cumulants1 = np.array([get_cumulants(ind,start=0,end=60,maxorder=4) for ind in range(returns.shape[0])])"
   ]
  },
  {
   "cell_type": "markdown",
   "metadata": {
    "collapsed": true,
    "deletable": true,
    "editable": true
   },
   "source": [
    "cumulants2 = np.array([get_cumulants(ind,start=61,end=120,maxorder=4) for ind in range(returns.shape[0])])"
   ]
  },
  {
   "cell_type": "markdown",
   "metadata": {
    "collapsed": false,
    "deletable": true,
    "editable": true
   },
   "source": [
    "cumulants3 = np.array([get_cumulants(ind,start=121,end=179,maxorder=4) for ind in range(returns.shape[0])])"
   ]
  },
  {
   "cell_type": "markdown",
   "metadata": {
    "collapsed": false,
    "deletable": true,
    "editable": true
   },
   "source": [
    "import matplotlib.pyplot as plt\n",
    "\n",
    "%matplotlib inline\n",
    "\n",
    "plt.rcParams['figure.figsize'] = (19.0, 12.0)\n",
    "\n",
    "for i in range(3):\n",
    "    for j in range(4):\n",
    "        plt.subplot(3, 4, 1+4*i+j)\n",
    "        if i == 0:\n",
    "            pd.Series(np.log(abs(cumulants1))[:,j]).hist(bins=20)\n",
    "            plt.title(\"K_%s on 1:60\" % int(j+1))\n",
    "        elif i == 1:\n",
    "            pd.Series(np.log(abs(cumulants2))[:,j]).hist(bins=20)\n",
    "            plt.title(\"K_%s on 61:120\" % int(j+1))\n",
    "        elif i == 2:\n",
    "            pd.Series(np.log(abs(cumulants3))[:,j]).hist(bins=20)\n",
    "            plt.title(\"K_%s on 121:180\" % int(j+1))"
   ]
  },
  {
   "cell_type": "code",
   "execution_count": null,
   "metadata": {
    "collapsed": true,
    "deletable": true,
    "editable": true
   },
   "outputs": [],
   "source": []
  }
 ],
 "metadata": {
  "kernelspec": {
   "display_name": "Python 2",
   "language": "python",
   "name": "python2"
  },
  "language_info": {
   "codemirror_mode": {
    "name": "ipython",
    "version": 2
   },
   "file_extension": ".py",
   "mimetype": "text/x-python",
   "name": "python",
   "nbconvert_exporter": "python",
   "pygments_lexer": "ipython2",
   "version": "2.7.13"
  }
 },
 "nbformat": 4,
 "nbformat_minor": 0
}
